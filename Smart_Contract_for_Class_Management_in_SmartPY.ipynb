{
 "cells": [
  {
   "cell_type": "code",
   "execution_count": 1,
   "id": "c9a1eef2",
   "metadata": {},
   "outputs": [
    {
     "ename": "SyntaxError",
     "evalue": "invalid syntax (2762607428.py, line 30)",
     "output_type": "error",
     "traceback": [
      "\u001b[0;36m  File \u001b[0;32m\"/var/folders/z3/g16f909160g5nm4ybs2dfz2m0000gn/T/ipykernel_33313/2762607428.py\"\u001b[0;36m, line \u001b[0;32m30\u001b[0m\n\u001b[0;31m    sp.if  (self.data.teacherchoices.contains(params.time)):\u001b[0m\n\u001b[0m       ^\u001b[0m\n\u001b[0;31mSyntaxError\u001b[0m\u001b[0;31m:\u001b[0m invalid syntax\n"
     ]
    }
   ],
   "source": [
    "import smartpy as sp"
   ]
  },
  {
   "cell_type": "markdown",
   "id": "e8eec1ed",
   "metadata": {},
   "source": [
    "# Contract"
   ]
  },
  {
   "cell_type": "markdown",
   "id": "f43105d8",
   "metadata": {},
   "source": [
    "class ClassSchedule(sp.Contract):\n",
    "    def __init__(self, teacher_address,student_address):\n",
    "        self.init(teacher_address = teacher_address,\n",
    "                  student_address=student_address,\n",
    "                  teacherchoices = sp.map(tkey = sp.TString),\n",
    "                  studentchoice = sp.map(tkey = sp.TString),\n",
    "                  student_balance=0,\n",
    "                  teacher_balance=0\n",
    "                  )\n",
    "    @sp.entry_point\n",
    "    def teacherchoice(self, params):\n",
    "        self.data.teacherchoices[params.time] = sp.record(day = params.day,\n",
    "                                                          type = params.type)\n",
    "    @sp.entry_point\n",
    "    def studentchoice(self,params):\n",
    "        self.data.studentchoice[params.time] = sp.record(day = params.day)\n",
    "    \n",
    "    @sp.entry_point\n",
    "    def student_balance(self,params):\n",
    "        self.data.student_balance=params.op1\n",
    "\n",
    "    @sp.entry_point\n",
    "    def teacher_balance( self,params):\n",
    "        self.data.teacher_balance=params.op2\n",
    "\n",
    "    @sp.entry_point\n",
    "    def transfer(self,params):\n",
    "        sp.if  (self.data.teacherchoices.contains(params.time)):\n",
    "            sp.if (self.data.studentchoice.contains(params.time)):\n",
    "                sp.if self.data.student_balance >0:\n",
    "                    sp.verify(sp.sender == self.data.student_address)\n",
    "                    self.data.teacher_balance+= 5\n",
    "                    self.data.student_balance-= 5"
   ]
  },
  {
   "cell_type": "markdown",
   "id": "641b0a09",
   "metadata": {},
   "source": [
    "# Adding Scenarios"
   ]
  },
  {
   "cell_type": "code",
   "execution_count": null,
   "id": "fe909bd2",
   "metadata": {},
   "outputs": [],
   "source": [
    "@sp.add_test(name = \"First_test\")\n",
    "def test():\n",
    "    teacher_address = sp.address(\"tz1-teacher-address-1234\")\n",
    "    student_address = sp.address(\"tz1-student-address-5678\")\n",
    "    \n",
    "    scenario = sp.test_scenario()\n",
    "    contract = ClassSchedule(teacher_address,student_address)\n",
    "    scenario += contract\n",
    "\n",
    "    scenario +=contract.teacher_balance(op2=10).run(sender = sp.address(\"tz1-student-address-5678\"))\n",
    "    scenario +=contract.student_balance(op1=5).run(sender = sp.address(\"tz1-student-address-5678\"))\n",
    "\n",
    "\n",
    "    scenario +=contract.teacherchoice(\n",
    "                                  time=\"10:00\",\n",
    "                                  day='11-05-22',\n",
    "                                  type=\"beginner\").run(sender = sp.address(\"tz1-teacher-address-1234\"))\n",
    "\n",
    "    scenario +=contract.studentchoice(\n",
    "                                  time=\"10:00\",\n",
    "                                  day='11-05-22').run(sender = sp.address(\"tz1-student-address-5678\"))             \n",
    "       \n",
    "    scenario +=contract.transfer(time=\"10:00\",\n",
    "                                  day='11-05-22',\n",
    "                                  type=\"beginner\").run(sender = sp.address(\"tz1-student-address-5678\"))"
   ]
  }
 ],
 "metadata": {
  "kernelspec": {
   "display_name": "Python 3 (ipykernel)",
   "language": "python",
   "name": "python3"
  },
  "language_info": {
   "codemirror_mode": {
    "name": "ipython",
    "version": 3
   },
   "file_extension": ".py",
   "mimetype": "text/x-python",
   "name": "python",
   "nbconvert_exporter": "python",
   "pygments_lexer": "ipython3",
   "version": "3.9.7"
  }
 },
 "nbformat": 4,
 "nbformat_minor": 5
}
